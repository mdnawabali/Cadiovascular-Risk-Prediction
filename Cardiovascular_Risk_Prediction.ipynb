{
  "nbformat": 4,
  "nbformat_minor": 0,
  "metadata": {
    "colab": {
      "provenance": [],
      "collapsed_sections": [
        "tSyKSicGXrNq",
        "Zud23lZ-aL1g",
        "llNoxG7TaSHj",
        "vBcpqBYScWsV",
        "J3fmVfOWwqv6",
        "O52-hQ9P6Z5P",
        "5x1hEzWf8vwL",
        "JKa39lfcDcE_"
      ],
      "mount_file_id": "151LkEAHItER7FBTqoL3L463Lgai0gS6I",
      "authorship_tag": "ABX9TyMZ4viP+DCvS+DPF97OQXu+",
      "include_colab_link": true
    },
    "kernelspec": {
      "name": "python3",
      "display_name": "Python 3"
    },
    "language_info": {
      "name": "python"
    }
  },
  "cells": [
    {
      "cell_type": "markdown",
      "metadata": {
        "id": "view-in-github",
        "colab_type": "text"
      },
      "source": [
        "<a href=\"https://colab.research.google.com/github/mdnawabali/Cadiovascular-Risk-Prediction/blob/main/Cardiovascular_Risk_Prediction.ipynb\" target=\"_parent\"><img src=\"https://colab.research.google.com/assets/colab-badge.svg\" alt=\"Open In Colab\"/></a>"
      ]
    },
    {
      "cell_type": "markdown",
      "source": [
        "# **Project Titile : Cardiovascular Risk Prediction: To predict whether the patient has a 10 year risk of future coronary heart disease(CHD)**"
      ],
      "metadata": {
        "id": "tSyKSicGXrNq"
      }
    },
    {
      "cell_type": "markdown",
      "source": [
        "# **Business Context**\n",
        "###The dataset is from an ongoing cardiovascular study on residents of the town of Framingham, Massachusetts. The classification goal is to predict whether the patient has a 10-year risk of future coronary heart disease (CHD). The dataset provides the patients’ information. It includes over 4,000 records and 15 attributes. Each attribute is a potential risk factor. There are both demographic, behavioral, and medical risk factors.###"
      ],
      "metadata": {
        "id": "86bHyZ_yVbEE"
      }
    },
    {
      "cell_type": "markdown",
      "source": [
        "![picture](https://drive.google.com/uc?export=view&id=1r90CwvfQjIHXNIH7T39fF4TJW_PRCVOL)"
      ],
      "metadata": {
        "id": "FUv6QyjmmLzF"
      }
    },
    {
      "cell_type": "markdown",
      "source": [
        "# **STEP 1 - Data Preparation**"
      ],
      "metadata": {
        "id": "Zud23lZ-aL1g"
      }
    },
    {
      "cell_type": "markdown",
      "source": [
        "## **Importing and Inspecting Dataset**"
      ],
      "metadata": {
        "id": "llNoxG7TaSHj"
      }
    },
    {
      "cell_type": "code",
      "source": [
        "# Importing required libraries\n",
        "import numpy as np\n",
        "import pandas as pd\n",
        "import seaborn as sns\n",
        "import matplotlib.pyplot as plt\n",
        "%matplotlib inline\n",
        "from sklearn.preprocessing import MinMaxScaler,StandardScaler\n",
        "from sklearn.model_selection import train_test_split,GridSearchCV\n",
        "from sklearn.metrics import confusion_matrix, classification_report, roc_curve\n",
        "from sklearn.metrics import make_scorer, recall_score, f1_score\n",
        "from sklearn.linear_model import LogisticRegression\n",
        "from sklearn.neighbors import KNeighborsClassifier\n",
        "from sklearn.svm import SVC\n",
        "from sklearn.tree import DecisionTreeClassifier\n",
        "from sklearn.ensemble import RandomForestClassifier\n",
        "from sklearn.naive_bayes import GaussianNB\n",
        "from xgboost import XGBRFClassifier\n",
        "from statsmodels.stats.outliers_influence import variance_inflation_factor\n",
        "from imblearn.combine import SMOTETomek\n",
        "\n",
        "import warnings\n",
        "warnings.filterwarnings('ignore')"
      ],
      "metadata": {
        "id": "OI0PXT5cW5rq"
      },
      "execution_count": null,
      "outputs": []
    },
    {
      "cell_type": "code",
      "source": [
        "#Importing  the dataset to create a Dataframe\n",
        "cv_df= pd.read_csv(\"/content/drive/MyDrive/Colab Notebooks/Capstone Project 3/data_cardiovascular_risk.csv\")"
      ],
      "metadata": {
        "id": "xqpQD6RYbEz2"
      },
      "execution_count": null,
      "outputs": []
    },
    {
      "cell_type": "code",
      "source": [
        "#Checking the shape of the data frame\n",
        "cv_df.shape"
      ],
      "metadata": {
        "colab": {
          "base_uri": "https://localhost:8080/"
        },
        "id": "4MzpfuD0bvwQ",
        "outputId": "5aa20072-88c8-4ac0-b3c8-97b28143f2d5"
      },
      "execution_count": null,
      "outputs": [
        {
          "output_type": "execute_result",
          "data": {
            "text/plain": [
              "(3390, 17)"
            ]
          },
          "metadata": {},
          "execution_count": 86
        }
      ]
    },
    {
      "cell_type": "code",
      "source": [
        "#Checking the top 5 Record in the dataframe\n",
        "cv_df.head()"
      ],
      "metadata": {
        "colab": {
          "base_uri": "https://localhost:8080/",
          "height": 270
        },
        "id": "4CtxobVicDOp",
        "outputId": "f1e4501e-f39a-446c-a24f-93160c29bf0c"
      },
      "execution_count": null,
      "outputs": [
        {
          "output_type": "execute_result",
          "data": {
            "text/plain": [
              "   id  age  education sex is_smoking  cigsPerDay  BPMeds  prevalentStroke  \\\n",
              "0   0   64        2.0   F        YES         3.0     0.0                0   \n",
              "1   1   36        4.0   M         NO         0.0     0.0                0   \n",
              "2   2   46        1.0   F        YES        10.0     0.0                0   \n",
              "3   3   50        1.0   M        YES        20.0     0.0                0   \n",
              "4   4   64        1.0   F        YES        30.0     0.0                0   \n",
              "\n",
              "   prevalentHyp  diabetes  totChol  sysBP  diaBP    BMI  heartRate  glucose  \\\n",
              "0             0         0    221.0  148.0   85.0    NaN       90.0     80.0   \n",
              "1             1         0    212.0  168.0   98.0  29.77       72.0     75.0   \n",
              "2             0         0    250.0  116.0   71.0  20.35       88.0     94.0   \n",
              "3             1         0    233.0  158.0   88.0  28.26       68.0     94.0   \n",
              "4             0         0    241.0  136.5   85.0  26.42       70.0     77.0   \n",
              "\n",
              "   TenYearCHD  \n",
              "0           1  \n",
              "1           0  \n",
              "2           0  \n",
              "3           1  \n",
              "4           0  "
            ],
            "text/html": [
              "\n",
              "  <div id=\"df-c52d66bc-1f48-4bb7-be5b-78f54dab326a\">\n",
              "    <div class=\"colab-df-container\">\n",
              "      <div>\n",
              "<style scoped>\n",
              "    .dataframe tbody tr th:only-of-type {\n",
              "        vertical-align: middle;\n",
              "    }\n",
              "\n",
              "    .dataframe tbody tr th {\n",
              "        vertical-align: top;\n",
              "    }\n",
              "\n",
              "    .dataframe thead th {\n",
              "        text-align: right;\n",
              "    }\n",
              "</style>\n",
              "<table border=\"1\" class=\"dataframe\">\n",
              "  <thead>\n",
              "    <tr style=\"text-align: right;\">\n",
              "      <th></th>\n",
              "      <th>id</th>\n",
              "      <th>age</th>\n",
              "      <th>education</th>\n",
              "      <th>sex</th>\n",
              "      <th>is_smoking</th>\n",
              "      <th>cigsPerDay</th>\n",
              "      <th>BPMeds</th>\n",
              "      <th>prevalentStroke</th>\n",
              "      <th>prevalentHyp</th>\n",
              "      <th>diabetes</th>\n",
              "      <th>totChol</th>\n",
              "      <th>sysBP</th>\n",
              "      <th>diaBP</th>\n",
              "      <th>BMI</th>\n",
              "      <th>heartRate</th>\n",
              "      <th>glucose</th>\n",
              "      <th>TenYearCHD</th>\n",
              "    </tr>\n",
              "  </thead>\n",
              "  <tbody>\n",
              "    <tr>\n",
              "      <th>0</th>\n",
              "      <td>0</td>\n",
              "      <td>64</td>\n",
              "      <td>2.0</td>\n",
              "      <td>F</td>\n",
              "      <td>YES</td>\n",
              "      <td>3.0</td>\n",
              "      <td>0.0</td>\n",
              "      <td>0</td>\n",
              "      <td>0</td>\n",
              "      <td>0</td>\n",
              "      <td>221.0</td>\n",
              "      <td>148.0</td>\n",
              "      <td>85.0</td>\n",
              "      <td>NaN</td>\n",
              "      <td>90.0</td>\n",
              "      <td>80.0</td>\n",
              "      <td>1</td>\n",
              "    </tr>\n",
              "    <tr>\n",
              "      <th>1</th>\n",
              "      <td>1</td>\n",
              "      <td>36</td>\n",
              "      <td>4.0</td>\n",
              "      <td>M</td>\n",
              "      <td>NO</td>\n",
              "      <td>0.0</td>\n",
              "      <td>0.0</td>\n",
              "      <td>0</td>\n",
              "      <td>1</td>\n",
              "      <td>0</td>\n",
              "      <td>212.0</td>\n",
              "      <td>168.0</td>\n",
              "      <td>98.0</td>\n",
              "      <td>29.77</td>\n",
              "      <td>72.0</td>\n",
              "      <td>75.0</td>\n",
              "      <td>0</td>\n",
              "    </tr>\n",
              "    <tr>\n",
              "      <th>2</th>\n",
              "      <td>2</td>\n",
              "      <td>46</td>\n",
              "      <td>1.0</td>\n",
              "      <td>F</td>\n",
              "      <td>YES</td>\n",
              "      <td>10.0</td>\n",
              "      <td>0.0</td>\n",
              "      <td>0</td>\n",
              "      <td>0</td>\n",
              "      <td>0</td>\n",
              "      <td>250.0</td>\n",
              "      <td>116.0</td>\n",
              "      <td>71.0</td>\n",
              "      <td>20.35</td>\n",
              "      <td>88.0</td>\n",
              "      <td>94.0</td>\n",
              "      <td>0</td>\n",
              "    </tr>\n",
              "    <tr>\n",
              "      <th>3</th>\n",
              "      <td>3</td>\n",
              "      <td>50</td>\n",
              "      <td>1.0</td>\n",
              "      <td>M</td>\n",
              "      <td>YES</td>\n",
              "      <td>20.0</td>\n",
              "      <td>0.0</td>\n",
              "      <td>0</td>\n",
              "      <td>1</td>\n",
              "      <td>0</td>\n",
              "      <td>233.0</td>\n",
              "      <td>158.0</td>\n",
              "      <td>88.0</td>\n",
              "      <td>28.26</td>\n",
              "      <td>68.0</td>\n",
              "      <td>94.0</td>\n",
              "      <td>1</td>\n",
              "    </tr>\n",
              "    <tr>\n",
              "      <th>4</th>\n",
              "      <td>4</td>\n",
              "      <td>64</td>\n",
              "      <td>1.0</td>\n",
              "      <td>F</td>\n",
              "      <td>YES</td>\n",
              "      <td>30.0</td>\n",
              "      <td>0.0</td>\n",
              "      <td>0</td>\n",
              "      <td>0</td>\n",
              "      <td>0</td>\n",
              "      <td>241.0</td>\n",
              "      <td>136.5</td>\n",
              "      <td>85.0</td>\n",
              "      <td>26.42</td>\n",
              "      <td>70.0</td>\n",
              "      <td>77.0</td>\n",
              "      <td>0</td>\n",
              "    </tr>\n",
              "  </tbody>\n",
              "</table>\n",
              "</div>\n",
              "      <button class=\"colab-df-convert\" onclick=\"convertToInteractive('df-c52d66bc-1f48-4bb7-be5b-78f54dab326a')\"\n",
              "              title=\"Convert this dataframe to an interactive table.\"\n",
              "              style=\"display:none;\">\n",
              "        \n",
              "  <svg xmlns=\"http://www.w3.org/2000/svg\" height=\"24px\"viewBox=\"0 0 24 24\"\n",
              "       width=\"24px\">\n",
              "    <path d=\"M0 0h24v24H0V0z\" fill=\"none\"/>\n",
              "    <path d=\"M18.56 5.44l.94 2.06.94-2.06 2.06-.94-2.06-.94-.94-2.06-.94 2.06-2.06.94zm-11 1L8.5 8.5l.94-2.06 2.06-.94-2.06-.94L8.5 2.5l-.94 2.06-2.06.94zm10 10l.94 2.06.94-2.06 2.06-.94-2.06-.94-.94-2.06-.94 2.06-2.06.94z\"/><path d=\"M17.41 7.96l-1.37-1.37c-.4-.4-.92-.59-1.43-.59-.52 0-1.04.2-1.43.59L10.3 9.45l-7.72 7.72c-.78.78-.78 2.05 0 2.83L4 21.41c.39.39.9.59 1.41.59.51 0 1.02-.2 1.41-.59l7.78-7.78 2.81-2.81c.8-.78.8-2.07 0-2.86zM5.41 20L4 18.59l7.72-7.72 1.47 1.35L5.41 20z\"/>\n",
              "  </svg>\n",
              "      </button>\n",
              "      \n",
              "  <style>\n",
              "    .colab-df-container {\n",
              "      display:flex;\n",
              "      flex-wrap:wrap;\n",
              "      gap: 12px;\n",
              "    }\n",
              "\n",
              "    .colab-df-convert {\n",
              "      background-color: #E8F0FE;\n",
              "      border: none;\n",
              "      border-radius: 50%;\n",
              "      cursor: pointer;\n",
              "      display: none;\n",
              "      fill: #1967D2;\n",
              "      height: 32px;\n",
              "      padding: 0 0 0 0;\n",
              "      width: 32px;\n",
              "    }\n",
              "\n",
              "    .colab-df-convert:hover {\n",
              "      background-color: #E2EBFA;\n",
              "      box-shadow: 0px 1px 2px rgba(60, 64, 67, 0.3), 0px 1px 3px 1px rgba(60, 64, 67, 0.15);\n",
              "      fill: #174EA6;\n",
              "    }\n",
              "\n",
              "    [theme=dark] .colab-df-convert {\n",
              "      background-color: #3B4455;\n",
              "      fill: #D2E3FC;\n",
              "    }\n",
              "\n",
              "    [theme=dark] .colab-df-convert:hover {\n",
              "      background-color: #434B5C;\n",
              "      box-shadow: 0px 1px 3px 1px rgba(0, 0, 0, 0.15);\n",
              "      filter: drop-shadow(0px 1px 2px rgba(0, 0, 0, 0.3));\n",
              "      fill: #FFFFFF;\n",
              "    }\n",
              "  </style>\n",
              "\n",
              "      <script>\n",
              "        const buttonEl =\n",
              "          document.querySelector('#df-c52d66bc-1f48-4bb7-be5b-78f54dab326a button.colab-df-convert');\n",
              "        buttonEl.style.display =\n",
              "          google.colab.kernel.accessAllowed ? 'block' : 'none';\n",
              "\n",
              "        async function convertToInteractive(key) {\n",
              "          const element = document.querySelector('#df-c52d66bc-1f48-4bb7-be5b-78f54dab326a');\n",
              "          const dataTable =\n",
              "            await google.colab.kernel.invokeFunction('convertToInteractive',\n",
              "                                                     [key], {});\n",
              "          if (!dataTable) return;\n",
              "\n",
              "          const docLinkHtml = 'Like what you see? Visit the ' +\n",
              "            '<a target=\"_blank\" href=https://colab.research.google.com/notebooks/data_table.ipynb>data table notebook</a>'\n",
              "            + ' to learn more about interactive tables.';\n",
              "          element.innerHTML = '';\n",
              "          dataTable['output_type'] = 'display_data';\n",
              "          await google.colab.output.renderOutput(dataTable, element);\n",
              "          const docLink = document.createElement('div');\n",
              "          docLink.innerHTML = docLinkHtml;\n",
              "          element.appendChild(docLink);\n",
              "        }\n",
              "      </script>\n",
              "    </div>\n",
              "  </div>\n",
              "  "
            ]
          },
          "metadata": {},
          "execution_count": 87
        }
      ]
    },
    {
      "cell_type": "code",
      "source": [
        "#Checking all the columns in the dataframe\n",
        "cv_df.columns"
      ],
      "metadata": {
        "colab": {
          "base_uri": "https://localhost:8080/"
        },
        "id": "rjmiGjHWkKzs",
        "outputId": "10edd71f-307f-4cab-ac1a-53d1af2517f4"
      },
      "execution_count": null,
      "outputs": [
        {
          "output_type": "execute_result",
          "data": {
            "text/plain": [
              "Index(['id', 'age', 'education', 'sex', 'is_smoking', 'cigsPerDay', 'BPMeds',\n",
              "       'prevalentStroke', 'prevalentHyp', 'diabetes', 'totChol', 'sysBP',\n",
              "       'diaBP', 'BMI', 'heartRate', 'glucose', 'TenYearCHD'],\n",
              "      dtype='object')"
            ]
          },
          "metadata": {},
          "execution_count": 88
        }
      ]
    },
    {
      "cell_type": "markdown",
      "source": [
        "#### Column Details\n",
        "\n",
        "| Field | Description || Field | Description |\n",
        "|-------|-------------||-------|-------------|\n",
        "|Age|Age of the patient||totChol|Cholestrol measure|\n",
        "|Education|||sysBP|systolic blood pressure|\n",
        "|Sex|male or female(\"M\" or \"F\")||diaBP|diastolic blood pressure|\n",
        "|is_Smoking|Whether smoking currently or not||BMI|Body Mass Index|\n",
        "|cigsPerDay|Cigarettes smoked per day||heartRate|Heart Rate Measure|\n",
        "|BPMeds|whether or not the patient was on blood pressure medication||glucose|Level of glucose in th body|\n",
        "|prevalentStroke|whether or not the patient had previously had a stroke||prevalentHyp| whether or not the patient was hypertensive |\n",
        "|diabetes|Patient has Diabetes or not||TenYearCHD|10-year risk of coronary heart disease CHD(binary: “1”, means “Yes”, “0” means “No”|\n",
        "\n",
        "\n",
        "\n",
        "\n"
      ],
      "metadata": {
        "id": "vBcpqBYScWsV"
      }
    },
    {
      "cell_type": "code",
      "source": [
        "# Defining function to determine null values in dataset and datatype of the data\n",
        "def brief():\n",
        "  values=pd.DataFrame(index=cv_df.columns)\n",
        "  values['Null Count']= cv_df.isnull().sum()\n",
        "  values['Dtype']=cv_df.dtypes\n",
        "  values['unique_count']= cv_df.nunique()\n",
        "  return values "
      ],
      "metadata": {
        "id": "cdC_5VBAcNAh"
      },
      "execution_count": null,
      "outputs": []
    },
    {
      "cell_type": "code",
      "source": [
        "#Calling the function brief()\n",
        "brief()"
      ],
      "metadata": {
        "colab": {
          "base_uri": "https://localhost:8080/",
          "height": 582
        },
        "id": "47Xy8kt9jldQ",
        "outputId": "5bd03d79-80eb-4ff0-8a89-1d9691084086"
      },
      "execution_count": null,
      "outputs": [
        {
          "output_type": "execute_result",
          "data": {
            "text/plain": [
              "                 Null Count    Dtype  unique_count\n",
              "id                        0    int64          3390\n",
              "age                       0    int64            39\n",
              "education                87  float64             4\n",
              "sex                       0   object             2\n",
              "is_smoking                0   object             2\n",
              "cigsPerDay               22  float64            32\n",
              "BPMeds                   44  float64             2\n",
              "prevalentStroke           0    int64             2\n",
              "prevalentHyp              0    int64             2\n",
              "diabetes                  0    int64             2\n",
              "totChol                  38  float64           240\n",
              "sysBP                     0  float64           226\n",
              "diaBP                     0  float64           142\n",
              "BMI                      14  float64          1259\n",
              "heartRate                 1  float64            68\n",
              "glucose                 304  float64           132\n",
              "TenYearCHD                0    int64             2"
            ],
            "text/html": [
              "\n",
              "  <div id=\"df-d896d3dc-ea0f-48f9-8e97-6c2e3335cf7f\">\n",
              "    <div class=\"colab-df-container\">\n",
              "      <div>\n",
              "<style scoped>\n",
              "    .dataframe tbody tr th:only-of-type {\n",
              "        vertical-align: middle;\n",
              "    }\n",
              "\n",
              "    .dataframe tbody tr th {\n",
              "        vertical-align: top;\n",
              "    }\n",
              "\n",
              "    .dataframe thead th {\n",
              "        text-align: right;\n",
              "    }\n",
              "</style>\n",
              "<table border=\"1\" class=\"dataframe\">\n",
              "  <thead>\n",
              "    <tr style=\"text-align: right;\">\n",
              "      <th></th>\n",
              "      <th>Null Count</th>\n",
              "      <th>Dtype</th>\n",
              "      <th>unique_count</th>\n",
              "    </tr>\n",
              "  </thead>\n",
              "  <tbody>\n",
              "    <tr>\n",
              "      <th>id</th>\n",
              "      <td>0</td>\n",
              "      <td>int64</td>\n",
              "      <td>3390</td>\n",
              "    </tr>\n",
              "    <tr>\n",
              "      <th>age</th>\n",
              "      <td>0</td>\n",
              "      <td>int64</td>\n",
              "      <td>39</td>\n",
              "    </tr>\n",
              "    <tr>\n",
              "      <th>education</th>\n",
              "      <td>87</td>\n",
              "      <td>float64</td>\n",
              "      <td>4</td>\n",
              "    </tr>\n",
              "    <tr>\n",
              "      <th>sex</th>\n",
              "      <td>0</td>\n",
              "      <td>object</td>\n",
              "      <td>2</td>\n",
              "    </tr>\n",
              "    <tr>\n",
              "      <th>is_smoking</th>\n",
              "      <td>0</td>\n",
              "      <td>object</td>\n",
              "      <td>2</td>\n",
              "    </tr>\n",
              "    <tr>\n",
              "      <th>cigsPerDay</th>\n",
              "      <td>22</td>\n",
              "      <td>float64</td>\n",
              "      <td>32</td>\n",
              "    </tr>\n",
              "    <tr>\n",
              "      <th>BPMeds</th>\n",
              "      <td>44</td>\n",
              "      <td>float64</td>\n",
              "      <td>2</td>\n",
              "    </tr>\n",
              "    <tr>\n",
              "      <th>prevalentStroke</th>\n",
              "      <td>0</td>\n",
              "      <td>int64</td>\n",
              "      <td>2</td>\n",
              "    </tr>\n",
              "    <tr>\n",
              "      <th>prevalentHyp</th>\n",
              "      <td>0</td>\n",
              "      <td>int64</td>\n",
              "      <td>2</td>\n",
              "    </tr>\n",
              "    <tr>\n",
              "      <th>diabetes</th>\n",
              "      <td>0</td>\n",
              "      <td>int64</td>\n",
              "      <td>2</td>\n",
              "    </tr>\n",
              "    <tr>\n",
              "      <th>totChol</th>\n",
              "      <td>38</td>\n",
              "      <td>float64</td>\n",
              "      <td>240</td>\n",
              "    </tr>\n",
              "    <tr>\n",
              "      <th>sysBP</th>\n",
              "      <td>0</td>\n",
              "      <td>float64</td>\n",
              "      <td>226</td>\n",
              "    </tr>\n",
              "    <tr>\n",
              "      <th>diaBP</th>\n",
              "      <td>0</td>\n",
              "      <td>float64</td>\n",
              "      <td>142</td>\n",
              "    </tr>\n",
              "    <tr>\n",
              "      <th>BMI</th>\n",
              "      <td>14</td>\n",
              "      <td>float64</td>\n",
              "      <td>1259</td>\n",
              "    </tr>\n",
              "    <tr>\n",
              "      <th>heartRate</th>\n",
              "      <td>1</td>\n",
              "      <td>float64</td>\n",
              "      <td>68</td>\n",
              "    </tr>\n",
              "    <tr>\n",
              "      <th>glucose</th>\n",
              "      <td>304</td>\n",
              "      <td>float64</td>\n",
              "      <td>132</td>\n",
              "    </tr>\n",
              "    <tr>\n",
              "      <th>TenYearCHD</th>\n",
              "      <td>0</td>\n",
              "      <td>int64</td>\n",
              "      <td>2</td>\n",
              "    </tr>\n",
              "  </tbody>\n",
              "</table>\n",
              "</div>\n",
              "      <button class=\"colab-df-convert\" onclick=\"convertToInteractive('df-d896d3dc-ea0f-48f9-8e97-6c2e3335cf7f')\"\n",
              "              title=\"Convert this dataframe to an interactive table.\"\n",
              "              style=\"display:none;\">\n",
              "        \n",
              "  <svg xmlns=\"http://www.w3.org/2000/svg\" height=\"24px\"viewBox=\"0 0 24 24\"\n",
              "       width=\"24px\">\n",
              "    <path d=\"M0 0h24v24H0V0z\" fill=\"none\"/>\n",
              "    <path d=\"M18.56 5.44l.94 2.06.94-2.06 2.06-.94-2.06-.94-.94-2.06-.94 2.06-2.06.94zm-11 1L8.5 8.5l.94-2.06 2.06-.94-2.06-.94L8.5 2.5l-.94 2.06-2.06.94zm10 10l.94 2.06.94-2.06 2.06-.94-2.06-.94-.94-2.06-.94 2.06-2.06.94z\"/><path d=\"M17.41 7.96l-1.37-1.37c-.4-.4-.92-.59-1.43-.59-.52 0-1.04.2-1.43.59L10.3 9.45l-7.72 7.72c-.78.78-.78 2.05 0 2.83L4 21.41c.39.39.9.59 1.41.59.51 0 1.02-.2 1.41-.59l7.78-7.78 2.81-2.81c.8-.78.8-2.07 0-2.86zM5.41 20L4 18.59l7.72-7.72 1.47 1.35L5.41 20z\"/>\n",
              "  </svg>\n",
              "      </button>\n",
              "      \n",
              "  <style>\n",
              "    .colab-df-container {\n",
              "      display:flex;\n",
              "      flex-wrap:wrap;\n",
              "      gap: 12px;\n",
              "    }\n",
              "\n",
              "    .colab-df-convert {\n",
              "      background-color: #E8F0FE;\n",
              "      border: none;\n",
              "      border-radius: 50%;\n",
              "      cursor: pointer;\n",
              "      display: none;\n",
              "      fill: #1967D2;\n",
              "      height: 32px;\n",
              "      padding: 0 0 0 0;\n",
              "      width: 32px;\n",
              "    }\n",
              "\n",
              "    .colab-df-convert:hover {\n",
              "      background-color: #E2EBFA;\n",
              "      box-shadow: 0px 1px 2px rgba(60, 64, 67, 0.3), 0px 1px 3px 1px rgba(60, 64, 67, 0.15);\n",
              "      fill: #174EA6;\n",
              "    }\n",
              "\n",
              "    [theme=dark] .colab-df-convert {\n",
              "      background-color: #3B4455;\n",
              "      fill: #D2E3FC;\n",
              "    }\n",
              "\n",
              "    [theme=dark] .colab-df-convert:hover {\n",
              "      background-color: #434B5C;\n",
              "      box-shadow: 0px 1px 3px 1px rgba(0, 0, 0, 0.15);\n",
              "      filter: drop-shadow(0px 1px 2px rgba(0, 0, 0, 0.3));\n",
              "      fill: #FFFFFF;\n",
              "    }\n",
              "  </style>\n",
              "\n",
              "      <script>\n",
              "        const buttonEl =\n",
              "          document.querySelector('#df-d896d3dc-ea0f-48f9-8e97-6c2e3335cf7f button.colab-df-convert');\n",
              "        buttonEl.style.display =\n",
              "          google.colab.kernel.accessAllowed ? 'block' : 'none';\n",
              "\n",
              "        async function convertToInteractive(key) {\n",
              "          const element = document.querySelector('#df-d896d3dc-ea0f-48f9-8e97-6c2e3335cf7f');\n",
              "          const dataTable =\n",
              "            await google.colab.kernel.invokeFunction('convertToInteractive',\n",
              "                                                     [key], {});\n",
              "          if (!dataTable) return;\n",
              "\n",
              "          const docLinkHtml = 'Like what you see? Visit the ' +\n",
              "            '<a target=\"_blank\" href=https://colab.research.google.com/notebooks/data_table.ipynb>data table notebook</a>'\n",
              "            + ' to learn more about interactive tables.';\n",
              "          element.innerHTML = '';\n",
              "          dataTable['output_type'] = 'display_data';\n",
              "          await google.colab.output.renderOutput(dataTable, element);\n",
              "          const docLink = document.createElement('div');\n",
              "          docLink.innerHTML = docLinkHtml;\n",
              "          element.appendChild(docLink);\n",
              "        }\n",
              "      </script>\n",
              "    </div>\n",
              "  </div>\n",
              "  "
            ]
          },
          "metadata": {},
          "execution_count": 90
        }
      ]
    },
    {
      "cell_type": "code",
      "source": [
        "#Checking for duplicate values\n",
        "cv_df[cv_df.duplicated()]"
      ],
      "metadata": {
        "colab": {
          "base_uri": "https://localhost:8080/",
          "height": 113
        },
        "id": "Auo39imxnmZD",
        "outputId": "054cde96-506b-406b-905e-fbd28a1134c4"
      },
      "execution_count": null,
      "outputs": [
        {
          "output_type": "execute_result",
          "data": {
            "text/plain": [
              "Empty DataFrame\n",
              "Columns: [id, age, education, sex, is_smoking, cigsPerDay, BPMeds, prevalentStroke, prevalentHyp, diabetes, totChol, sysBP, diaBP, BMI, heartRate, glucose, TenYearCHD]\n",
              "Index: []"
            ],
            "text/html": [
              "\n",
              "  <div id=\"df-03d0d3a8-18a7-46b8-be21-ca7d4f0bd2e5\">\n",
              "    <div class=\"colab-df-container\">\n",
              "      <div>\n",
              "<style scoped>\n",
              "    .dataframe tbody tr th:only-of-type {\n",
              "        vertical-align: middle;\n",
              "    }\n",
              "\n",
              "    .dataframe tbody tr th {\n",
              "        vertical-align: top;\n",
              "    }\n",
              "\n",
              "    .dataframe thead th {\n",
              "        text-align: right;\n",
              "    }\n",
              "</style>\n",
              "<table border=\"1\" class=\"dataframe\">\n",
              "  <thead>\n",
              "    <tr style=\"text-align: right;\">\n",
              "      <th></th>\n",
              "      <th>id</th>\n",
              "      <th>age</th>\n",
              "      <th>education</th>\n",
              "      <th>sex</th>\n",
              "      <th>is_smoking</th>\n",
              "      <th>cigsPerDay</th>\n",
              "      <th>BPMeds</th>\n",
              "      <th>prevalentStroke</th>\n",
              "      <th>prevalentHyp</th>\n",
              "      <th>diabetes</th>\n",
              "      <th>totChol</th>\n",
              "      <th>sysBP</th>\n",
              "      <th>diaBP</th>\n",
              "      <th>BMI</th>\n",
              "      <th>heartRate</th>\n",
              "      <th>glucose</th>\n",
              "      <th>TenYearCHD</th>\n",
              "    </tr>\n",
              "  </thead>\n",
              "  <tbody>\n",
              "  </tbody>\n",
              "</table>\n",
              "</div>\n",
              "      <button class=\"colab-df-convert\" onclick=\"convertToInteractive('df-03d0d3a8-18a7-46b8-be21-ca7d4f0bd2e5')\"\n",
              "              title=\"Convert this dataframe to an interactive table.\"\n",
              "              style=\"display:none;\">\n",
              "        \n",
              "  <svg xmlns=\"http://www.w3.org/2000/svg\" height=\"24px\"viewBox=\"0 0 24 24\"\n",
              "       width=\"24px\">\n",
              "    <path d=\"M0 0h24v24H0V0z\" fill=\"none\"/>\n",
              "    <path d=\"M18.56 5.44l.94 2.06.94-2.06 2.06-.94-2.06-.94-.94-2.06-.94 2.06-2.06.94zm-11 1L8.5 8.5l.94-2.06 2.06-.94-2.06-.94L8.5 2.5l-.94 2.06-2.06.94zm10 10l.94 2.06.94-2.06 2.06-.94-2.06-.94-.94-2.06-.94 2.06-2.06.94z\"/><path d=\"M17.41 7.96l-1.37-1.37c-.4-.4-.92-.59-1.43-.59-.52 0-1.04.2-1.43.59L10.3 9.45l-7.72 7.72c-.78.78-.78 2.05 0 2.83L4 21.41c.39.39.9.59 1.41.59.51 0 1.02-.2 1.41-.59l7.78-7.78 2.81-2.81c.8-.78.8-2.07 0-2.86zM5.41 20L4 18.59l7.72-7.72 1.47 1.35L5.41 20z\"/>\n",
              "  </svg>\n",
              "      </button>\n",
              "      \n",
              "  <style>\n",
              "    .colab-df-container {\n",
              "      display:flex;\n",
              "      flex-wrap:wrap;\n",
              "      gap: 12px;\n",
              "    }\n",
              "\n",
              "    .colab-df-convert {\n",
              "      background-color: #E8F0FE;\n",
              "      border: none;\n",
              "      border-radius: 50%;\n",
              "      cursor: pointer;\n",
              "      display: none;\n",
              "      fill: #1967D2;\n",
              "      height: 32px;\n",
              "      padding: 0 0 0 0;\n",
              "      width: 32px;\n",
              "    }\n",
              "\n",
              "    .colab-df-convert:hover {\n",
              "      background-color: #E2EBFA;\n",
              "      box-shadow: 0px 1px 2px rgba(60, 64, 67, 0.3), 0px 1px 3px 1px rgba(60, 64, 67, 0.15);\n",
              "      fill: #174EA6;\n",
              "    }\n",
              "\n",
              "    [theme=dark] .colab-df-convert {\n",
              "      background-color: #3B4455;\n",
              "      fill: #D2E3FC;\n",
              "    }\n",
              "\n",
              "    [theme=dark] .colab-df-convert:hover {\n",
              "      background-color: #434B5C;\n",
              "      box-shadow: 0px 1px 3px 1px rgba(0, 0, 0, 0.15);\n",
              "      filter: drop-shadow(0px 1px 2px rgba(0, 0, 0, 0.3));\n",
              "      fill: #FFFFFF;\n",
              "    }\n",
              "  </style>\n",
              "\n",
              "      <script>\n",
              "        const buttonEl =\n",
              "          document.querySelector('#df-03d0d3a8-18a7-46b8-be21-ca7d4f0bd2e5 button.colab-df-convert');\n",
              "        buttonEl.style.display =\n",
              "          google.colab.kernel.accessAllowed ? 'block' : 'none';\n",
              "\n",
              "        async function convertToInteractive(key) {\n",
              "          const element = document.querySelector('#df-03d0d3a8-18a7-46b8-be21-ca7d4f0bd2e5');\n",
              "          const dataTable =\n",
              "            await google.colab.kernel.invokeFunction('convertToInteractive',\n",
              "                                                     [key], {});\n",
              "          if (!dataTable) return;\n",
              "\n",
              "          const docLinkHtml = 'Like what you see? Visit the ' +\n",
              "            '<a target=\"_blank\" href=https://colab.research.google.com/notebooks/data_table.ipynb>data table notebook</a>'\n",
              "            + ' to learn more about interactive tables.';\n",
              "          element.innerHTML = '';\n",
              "          dataTable['output_type'] = 'display_data';\n",
              "          await google.colab.output.renderOutput(dataTable, element);\n",
              "          const docLink = document.createElement('div');\n",
              "          docLink.innerHTML = docLinkHtml;\n",
              "          element.appendChild(docLink);\n",
              "        }\n",
              "      </script>\n",
              "    </div>\n",
              "  </div>\n",
              "  "
            ]
          },
          "metadata": {},
          "execution_count": 91
        }
      ]
    },
    {
      "cell_type": "code",
      "source": [
        "#Calling the describe function to get the summary of the dataframe\n",
        "cv_df.describe().round(2).style.background_gradient().set_properties(**{'border': '1.3px solid red',\n",
        "                          'color': 'black'})"
      ],
      "metadata": {
        "colab": {
          "base_uri": "https://localhost:8080/",
          "height": 331
        },
        "id": "tgs1tErmcUDD",
        "outputId": "c5960b36-784b-4919-e7a5-68c9b81f7d73"
      },
      "execution_count": null,
      "outputs": [
        {
          "output_type": "execute_result",
          "data": {
            "text/plain": [
              "<pandas.io.formats.style.Styler at 0x7f801adf46a0>"
            ],
            "text/html": [
              "<style type=\"text/css\">\n",
              "#T_3e79a_row0_col0, #T_3e79a_row0_col1, #T_3e79a_row0_col2, #T_3e79a_row0_col3, #T_3e79a_row0_col4, #T_3e79a_row0_col5, #T_3e79a_row0_col6, #T_3e79a_row0_col7, #T_3e79a_row0_col8, #T_3e79a_row0_col9, #T_3e79a_row0_col10, #T_3e79a_row0_col11, #T_3e79a_row0_col12, #T_3e79a_row0_col13, #T_3e79a_row0_col14, #T_3e79a_row7_col0 {\n",
              "  background-color: #023858;\n",
              "  color: #f1f1f1;\n",
              "  border: 1.3px solid red;\n",
              "  color: black;\n",
              "}\n",
              "#T_3e79a_row1_col0, #T_3e79a_row5_col0 {\n",
              "  background-color: #75a9cf;\n",
              "  color: #f1f1f1;\n",
              "  border: 1.3px solid red;\n",
              "  color: black;\n",
              "}\n",
              "#T_3e79a_row1_col1, #T_3e79a_row1_col12, #T_3e79a_row1_col13, #T_3e79a_row3_col8, #T_3e79a_row3_col9, #T_3e79a_row4_col10, #T_3e79a_row4_col12, #T_3e79a_row4_col13, #T_3e79a_row5_col1, #T_3e79a_row5_col12, #T_3e79a_row5_col13, #T_3e79a_row6_col1, #T_3e79a_row7_col1, #T_3e79a_row7_col11 {\n",
              "  background-color: #fdf5fa;\n",
              "  color: #000000;\n",
              "  border: 1.3px solid red;\n",
              "  color: black;\n",
              "}\n",
              "#T_3e79a_row1_col2, #T_3e79a_row1_col3, #T_3e79a_row1_col4, #T_3e79a_row1_col5, #T_3e79a_row1_col6, #T_3e79a_row1_col7, #T_3e79a_row1_col14, #T_3e79a_row2_col1, #T_3e79a_row2_col2, #T_3e79a_row2_col3, #T_3e79a_row2_col4, #T_3e79a_row2_col5, #T_3e79a_row2_col6, #T_3e79a_row2_col7, #T_3e79a_row2_col8, #T_3e79a_row2_col9, #T_3e79a_row2_col10, #T_3e79a_row2_col11, #T_3e79a_row2_col12, #T_3e79a_row2_col13, #T_3e79a_row2_col14, #T_3e79a_row3_col0, #T_3e79a_row3_col2, #T_3e79a_row3_col3, #T_3e79a_row3_col4, #T_3e79a_row3_col5, #T_3e79a_row3_col6, #T_3e79a_row3_col7, #T_3e79a_row3_col11, #T_3e79a_row3_col14, #T_3e79a_row4_col2, #T_3e79a_row4_col3, #T_3e79a_row4_col4, #T_3e79a_row4_col5, #T_3e79a_row4_col6, #T_3e79a_row4_col7, #T_3e79a_row4_col14, #T_3e79a_row5_col2, #T_3e79a_row5_col3, #T_3e79a_row5_col4, #T_3e79a_row5_col5, #T_3e79a_row5_col6, #T_3e79a_row5_col7, #T_3e79a_row5_col14, #T_3e79a_row6_col2, #T_3e79a_row6_col4, #T_3e79a_row6_col5, #T_3e79a_row6_col6, #T_3e79a_row6_col7, #T_3e79a_row6_col14, #T_3e79a_row7_col2, #T_3e79a_row7_col4, #T_3e79a_row7_col5, #T_3e79a_row7_col6, #T_3e79a_row7_col7, #T_3e79a_row7_col14 {\n",
              "  background-color: #fff7fb;\n",
              "  color: #000000;\n",
              "  border: 1.3px solid red;\n",
              "  color: black;\n",
              "}\n",
              "#T_3e79a_row1_col8, #T_3e79a_row5_col8 {\n",
              "  background-color: #f7f0f7;\n",
              "  color: #000000;\n",
              "  border: 1.3px solid red;\n",
              "  color: black;\n",
              "}\n",
              "#T_3e79a_row1_col9, #T_3e79a_row5_col9 {\n",
              "  background-color: #faf3f9;\n",
              "  color: #000000;\n",
              "  border: 1.3px solid red;\n",
              "  color: black;\n",
              "}\n",
              "#T_3e79a_row1_col10, #T_3e79a_row5_col10, #T_3e79a_row6_col10, #T_3e79a_row6_col12, #T_3e79a_row6_col13, #T_3e79a_row7_col3 {\n",
              "  background-color: #fcf4fa;\n",
              "  color: #000000;\n",
              "  border: 1.3px solid red;\n",
              "  color: black;\n",
              "}\n",
              "#T_3e79a_row1_col11, #T_3e79a_row3_col1, #T_3e79a_row3_col13, #T_3e79a_row4_col11, #T_3e79a_row5_col11, #T_3e79a_row6_col3, #T_3e79a_row6_col11 {\n",
              "  background-color: #fef6fb;\n",
              "  color: #000000;\n",
              "  border: 1.3px solid red;\n",
              "  color: black;\n",
              "}\n",
              "#T_3e79a_row2_col0 {\n",
              "  background-color: #c4cbe3;\n",
              "  color: #000000;\n",
              "  border: 1.3px solid red;\n",
              "  color: black;\n",
              "}\n",
              "#T_3e79a_row3_col10, #T_3e79a_row3_col12, #T_3e79a_row4_col1 {\n",
              "  background-color: #fef6fa;\n",
              "  color: #000000;\n",
              "  border: 1.3px solid red;\n",
              "  color: black;\n",
              "}\n",
              "#T_3e79a_row4_col0 {\n",
              "  background-color: #d1d2e6;\n",
              "  color: #000000;\n",
              "  border: 1.3px solid red;\n",
              "  color: black;\n",
              "}\n",
              "#T_3e79a_row4_col8 {\n",
              "  background-color: #f8f1f8;\n",
              "  color: #000000;\n",
              "  border: 1.3px solid red;\n",
              "  color: black;\n",
              "}\n",
              "#T_3e79a_row4_col9 {\n",
              "  background-color: #fbf3f9;\n",
              "  color: #000000;\n",
              "  border: 1.3px solid red;\n",
              "  color: black;\n",
              "}\n",
              "#T_3e79a_row6_col0 {\n",
              "  background-color: #0570b0;\n",
              "  color: #f1f1f1;\n",
              "  border: 1.3px solid red;\n",
              "  color: black;\n",
              "}\n",
              "#T_3e79a_row6_col8 {\n",
              "  background-color: #f5eff6;\n",
              "  color: #000000;\n",
              "  border: 1.3px solid red;\n",
              "  color: black;\n",
              "}\n",
              "#T_3e79a_row6_col9, #T_3e79a_row7_col10, #T_3e79a_row7_col12 {\n",
              "  background-color: #faf2f8;\n",
              "  color: #000000;\n",
              "  border: 1.3px solid red;\n",
              "  color: black;\n",
              "}\n",
              "#T_3e79a_row7_col8 {\n",
              "  background-color: #dcdaeb;\n",
              "  color: #000000;\n",
              "  border: 1.3px solid red;\n",
              "  color: black;\n",
              "}\n",
              "#T_3e79a_row7_col9 {\n",
              "  background-color: #f3edf5;\n",
              "  color: #000000;\n",
              "  border: 1.3px solid red;\n",
              "  color: black;\n",
              "}\n",
              "#T_3e79a_row7_col13 {\n",
              "  background-color: #ede8f3;\n",
              "  color: #000000;\n",
              "  border: 1.3px solid red;\n",
              "  color: black;\n",
              "}\n",
              "</style>\n",
              "<table id=\"T_3e79a_\" class=\"dataframe\">\n",
              "  <thead>\n",
              "    <tr>\n",
              "      <th class=\"blank level0\" >&nbsp;</th>\n",
              "      <th class=\"col_heading level0 col0\" >id</th>\n",
              "      <th class=\"col_heading level0 col1\" >age</th>\n",
              "      <th class=\"col_heading level0 col2\" >education</th>\n",
              "      <th class=\"col_heading level0 col3\" >cigsPerDay</th>\n",
              "      <th class=\"col_heading level0 col4\" >BPMeds</th>\n",
              "      <th class=\"col_heading level0 col5\" >prevalentStroke</th>\n",
              "      <th class=\"col_heading level0 col6\" >prevalentHyp</th>\n",
              "      <th class=\"col_heading level0 col7\" >diabetes</th>\n",
              "      <th class=\"col_heading level0 col8\" >totChol</th>\n",
              "      <th class=\"col_heading level0 col9\" >sysBP</th>\n",
              "      <th class=\"col_heading level0 col10\" >diaBP</th>\n",
              "      <th class=\"col_heading level0 col11\" >BMI</th>\n",
              "      <th class=\"col_heading level0 col12\" >heartRate</th>\n",
              "      <th class=\"col_heading level0 col13\" >glucose</th>\n",
              "      <th class=\"col_heading level0 col14\" >TenYearCHD</th>\n",
              "    </tr>\n",
              "  </thead>\n",
              "  <tbody>\n",
              "    <tr>\n",
              "      <th id=\"T_3e79a_level0_row0\" class=\"row_heading level0 row0\" >count</th>\n",
              "      <td id=\"T_3e79a_row0_col0\" class=\"data row0 col0\" >3390.000000</td>\n",
              "      <td id=\"T_3e79a_row0_col1\" class=\"data row0 col1\" >3390.000000</td>\n",
              "      <td id=\"T_3e79a_row0_col2\" class=\"data row0 col2\" >3303.000000</td>\n",
              "      <td id=\"T_3e79a_row0_col3\" class=\"data row0 col3\" >3368.000000</td>\n",
              "      <td id=\"T_3e79a_row0_col4\" class=\"data row0 col4\" >3346.000000</td>\n",
              "      <td id=\"T_3e79a_row0_col5\" class=\"data row0 col5\" >3390.000000</td>\n",
              "      <td id=\"T_3e79a_row0_col6\" class=\"data row0 col6\" >3390.000000</td>\n",
              "      <td id=\"T_3e79a_row0_col7\" class=\"data row0 col7\" >3390.000000</td>\n",
              "      <td id=\"T_3e79a_row0_col8\" class=\"data row0 col8\" >3352.000000</td>\n",
              "      <td id=\"T_3e79a_row0_col9\" class=\"data row0 col9\" >3390.000000</td>\n",
              "      <td id=\"T_3e79a_row0_col10\" class=\"data row0 col10\" >3390.000000</td>\n",
              "      <td id=\"T_3e79a_row0_col11\" class=\"data row0 col11\" >3376.000000</td>\n",
              "      <td id=\"T_3e79a_row0_col12\" class=\"data row0 col12\" >3389.000000</td>\n",
              "      <td id=\"T_3e79a_row0_col13\" class=\"data row0 col13\" >3086.000000</td>\n",
              "      <td id=\"T_3e79a_row0_col14\" class=\"data row0 col14\" >3390.000000</td>\n",
              "    </tr>\n",
              "    <tr>\n",
              "      <th id=\"T_3e79a_level0_row1\" class=\"row_heading level0 row1\" >mean</th>\n",
              "      <td id=\"T_3e79a_row1_col0\" class=\"data row1 col0\" >1694.500000</td>\n",
              "      <td id=\"T_3e79a_row1_col1\" class=\"data row1 col1\" >49.540000</td>\n",
              "      <td id=\"T_3e79a_row1_col2\" class=\"data row1 col2\" >1.970000</td>\n",
              "      <td id=\"T_3e79a_row1_col3\" class=\"data row1 col3\" >9.070000</td>\n",
              "      <td id=\"T_3e79a_row1_col4\" class=\"data row1 col4\" >0.030000</td>\n",
              "      <td id=\"T_3e79a_row1_col5\" class=\"data row1 col5\" >0.010000</td>\n",
              "      <td id=\"T_3e79a_row1_col6\" class=\"data row1 col6\" >0.320000</td>\n",
              "      <td id=\"T_3e79a_row1_col7\" class=\"data row1 col7\" >0.030000</td>\n",
              "      <td id=\"T_3e79a_row1_col8\" class=\"data row1 col8\" >237.070000</td>\n",
              "      <td id=\"T_3e79a_row1_col9\" class=\"data row1 col9\" >132.600000</td>\n",
              "      <td id=\"T_3e79a_row1_col10\" class=\"data row1 col10\" >82.880000</td>\n",
              "      <td id=\"T_3e79a_row1_col11\" class=\"data row1 col11\" >25.790000</td>\n",
              "      <td id=\"T_3e79a_row1_col12\" class=\"data row1 col12\" >75.980000</td>\n",
              "      <td id=\"T_3e79a_row1_col13\" class=\"data row1 col13\" >82.090000</td>\n",
              "      <td id=\"T_3e79a_row1_col14\" class=\"data row1 col14\" >0.150000</td>\n",
              "    </tr>\n",
              "    <tr>\n",
              "      <th id=\"T_3e79a_level0_row2\" class=\"row_heading level0 row2\" >std</th>\n",
              "      <td id=\"T_3e79a_row2_col0\" class=\"data row2 col0\" >978.750000</td>\n",
              "      <td id=\"T_3e79a_row2_col1\" class=\"data row2 col1\" >8.590000</td>\n",
              "      <td id=\"T_3e79a_row2_col2\" class=\"data row2 col2\" >1.020000</td>\n",
              "      <td id=\"T_3e79a_row2_col3\" class=\"data row2 col3\" >11.880000</td>\n",
              "      <td id=\"T_3e79a_row2_col4\" class=\"data row2 col4\" >0.170000</td>\n",
              "      <td id=\"T_3e79a_row2_col5\" class=\"data row2 col5\" >0.080000</td>\n",
              "      <td id=\"T_3e79a_row2_col6\" class=\"data row2 col6\" >0.460000</td>\n",
              "      <td id=\"T_3e79a_row2_col7\" class=\"data row2 col7\" >0.160000</td>\n",
              "      <td id=\"T_3e79a_row2_col8\" class=\"data row2 col8\" >45.250000</td>\n",
              "      <td id=\"T_3e79a_row2_col9\" class=\"data row2 col9\" >22.290000</td>\n",
              "      <td id=\"T_3e79a_row2_col10\" class=\"data row2 col10\" >12.020000</td>\n",
              "      <td id=\"T_3e79a_row2_col11\" class=\"data row2 col11\" >4.120000</td>\n",
              "      <td id=\"T_3e79a_row2_col12\" class=\"data row2 col12\" >11.970000</td>\n",
              "      <td id=\"T_3e79a_row2_col13\" class=\"data row2 col13\" >24.240000</td>\n",
              "      <td id=\"T_3e79a_row2_col14\" class=\"data row2 col14\" >0.360000</td>\n",
              "    </tr>\n",
              "    <tr>\n",
              "      <th id=\"T_3e79a_level0_row3\" class=\"row_heading level0 row3\" >min</th>\n",
              "      <td id=\"T_3e79a_row3_col0\" class=\"data row3 col0\" >0.000000</td>\n",
              "      <td id=\"T_3e79a_row3_col1\" class=\"data row3 col1\" >32.000000</td>\n",
              "      <td id=\"T_3e79a_row3_col2\" class=\"data row3 col2\" >1.000000</td>\n",
              "      <td id=\"T_3e79a_row3_col3\" class=\"data row3 col3\" >0.000000</td>\n",
              "      <td id=\"T_3e79a_row3_col4\" class=\"data row3 col4\" >0.000000</td>\n",
              "      <td id=\"T_3e79a_row3_col5\" class=\"data row3 col5\" >0.000000</td>\n",
              "      <td id=\"T_3e79a_row3_col6\" class=\"data row3 col6\" >0.000000</td>\n",
              "      <td id=\"T_3e79a_row3_col7\" class=\"data row3 col7\" >0.000000</td>\n",
              "      <td id=\"T_3e79a_row3_col8\" class=\"data row3 col8\" >107.000000</td>\n",
              "      <td id=\"T_3e79a_row3_col9\" class=\"data row3 col9\" >83.500000</td>\n",
              "      <td id=\"T_3e79a_row3_col10\" class=\"data row3 col10\" >48.000000</td>\n",
              "      <td id=\"T_3e79a_row3_col11\" class=\"data row3 col11\" >15.960000</td>\n",
              "      <td id=\"T_3e79a_row3_col12\" class=\"data row3 col12\" >45.000000</td>\n",
              "      <td id=\"T_3e79a_row3_col13\" class=\"data row3 col13\" >40.000000</td>\n",
              "      <td id=\"T_3e79a_row3_col14\" class=\"data row3 col14\" >0.000000</td>\n",
              "    </tr>\n",
              "    <tr>\n",
              "      <th id=\"T_3e79a_level0_row4\" class=\"row_heading level0 row4\" >25%</th>\n",
              "      <td id=\"T_3e79a_row4_col0\" class=\"data row4 col0\" >847.250000</td>\n",
              "      <td id=\"T_3e79a_row4_col1\" class=\"data row4 col1\" >42.000000</td>\n",
              "      <td id=\"T_3e79a_row4_col2\" class=\"data row4 col2\" >1.000000</td>\n",
              "      <td id=\"T_3e79a_row4_col3\" class=\"data row4 col3\" >0.000000</td>\n",
              "      <td id=\"T_3e79a_row4_col4\" class=\"data row4 col4\" >0.000000</td>\n",
              "      <td id=\"T_3e79a_row4_col5\" class=\"data row4 col5\" >0.000000</td>\n",
              "      <td id=\"T_3e79a_row4_col6\" class=\"data row4 col6\" >0.000000</td>\n",
              "      <td id=\"T_3e79a_row4_col7\" class=\"data row4 col7\" >0.000000</td>\n",
              "      <td id=\"T_3e79a_row4_col8\" class=\"data row4 col8\" >206.000000</td>\n",
              "      <td id=\"T_3e79a_row4_col9\" class=\"data row4 col9\" >117.000000</td>\n",
              "      <td id=\"T_3e79a_row4_col10\" class=\"data row4 col10\" >74.500000</td>\n",
              "      <td id=\"T_3e79a_row4_col11\" class=\"data row4 col11\" >23.020000</td>\n",
              "      <td id=\"T_3e79a_row4_col12\" class=\"data row4 col12\" >68.000000</td>\n",
              "      <td id=\"T_3e79a_row4_col13\" class=\"data row4 col13\" >71.000000</td>\n",
              "      <td id=\"T_3e79a_row4_col14\" class=\"data row4 col14\" >0.000000</td>\n",
              "    </tr>\n",
              "    <tr>\n",
              "      <th id=\"T_3e79a_level0_row5\" class=\"row_heading level0 row5\" >50%</th>\n",
              "      <td id=\"T_3e79a_row5_col0\" class=\"data row5 col0\" >1694.500000</td>\n",
              "      <td id=\"T_3e79a_row5_col1\" class=\"data row5 col1\" >49.000000</td>\n",
              "      <td id=\"T_3e79a_row5_col2\" class=\"data row5 col2\" >2.000000</td>\n",
              "      <td id=\"T_3e79a_row5_col3\" class=\"data row5 col3\" >0.000000</td>\n",
              "      <td id=\"T_3e79a_row5_col4\" class=\"data row5 col4\" >0.000000</td>\n",
              "      <td id=\"T_3e79a_row5_col5\" class=\"data row5 col5\" >0.000000</td>\n",
              "      <td id=\"T_3e79a_row5_col6\" class=\"data row5 col6\" >0.000000</td>\n",
              "      <td id=\"T_3e79a_row5_col7\" class=\"data row5 col7\" >0.000000</td>\n",
              "      <td id=\"T_3e79a_row5_col8\" class=\"data row5 col8\" >234.000000</td>\n",
              "      <td id=\"T_3e79a_row5_col9\" class=\"data row5 col9\" >128.500000</td>\n",
              "      <td id=\"T_3e79a_row5_col10\" class=\"data row5 col10\" >82.000000</td>\n",
              "      <td id=\"T_3e79a_row5_col11\" class=\"data row5 col11\" >25.380000</td>\n",
              "      <td id=\"T_3e79a_row5_col12\" class=\"data row5 col12\" >75.000000</td>\n",
              "      <td id=\"T_3e79a_row5_col13\" class=\"data row5 col13\" >78.000000</td>\n",
              "      <td id=\"T_3e79a_row5_col14\" class=\"data row5 col14\" >0.000000</td>\n",
              "    </tr>\n",
              "    <tr>\n",
              "      <th id=\"T_3e79a_level0_row6\" class=\"row_heading level0 row6\" >75%</th>\n",
              "      <td id=\"T_3e79a_row6_col0\" class=\"data row6 col0\" >2541.750000</td>\n",
              "      <td id=\"T_3e79a_row6_col1\" class=\"data row6 col1\" >56.000000</td>\n",
              "      <td id=\"T_3e79a_row6_col2\" class=\"data row6 col2\" >3.000000</td>\n",
              "      <td id=\"T_3e79a_row6_col3\" class=\"data row6 col3\" >20.000000</td>\n",
              "      <td id=\"T_3e79a_row6_col4\" class=\"data row6 col4\" >0.000000</td>\n",
              "      <td id=\"T_3e79a_row6_col5\" class=\"data row6 col5\" >0.000000</td>\n",
              "      <td id=\"T_3e79a_row6_col6\" class=\"data row6 col6\" >1.000000</td>\n",
              "      <td id=\"T_3e79a_row6_col7\" class=\"data row6 col7\" >0.000000</td>\n",
              "      <td id=\"T_3e79a_row6_col8\" class=\"data row6 col8\" >264.000000</td>\n",
              "      <td id=\"T_3e79a_row6_col9\" class=\"data row6 col9\" >144.000000</td>\n",
              "      <td id=\"T_3e79a_row6_col10\" class=\"data row6 col10\" >90.000000</td>\n",
              "      <td id=\"T_3e79a_row6_col11\" class=\"data row6 col11\" >28.040000</td>\n",
              "      <td id=\"T_3e79a_row6_col12\" class=\"data row6 col12\" >83.000000</td>\n",
              "      <td id=\"T_3e79a_row6_col13\" class=\"data row6 col13\" >87.000000</td>\n",
              "      <td id=\"T_3e79a_row6_col14\" class=\"data row6 col14\" >0.000000</td>\n",
              "    </tr>\n",
              "    <tr>\n",
              "      <th id=\"T_3e79a_level0_row7\" class=\"row_heading level0 row7\" >max</th>\n",
              "      <td id=\"T_3e79a_row7_col0\" class=\"data row7 col0\" >3389.000000</td>\n",
              "      <td id=\"T_3e79a_row7_col1\" class=\"data row7 col1\" >70.000000</td>\n",
              "      <td id=\"T_3e79a_row7_col2\" class=\"data row7 col2\" >4.000000</td>\n",
              "      <td id=\"T_3e79a_row7_col3\" class=\"data row7 col3\" >70.000000</td>\n",
              "      <td id=\"T_3e79a_row7_col4\" class=\"data row7 col4\" >1.000000</td>\n",
              "      <td id=\"T_3e79a_row7_col5\" class=\"data row7 col5\" >1.000000</td>\n",
              "      <td id=\"T_3e79a_row7_col6\" class=\"data row7 col6\" >1.000000</td>\n",
              "      <td id=\"T_3e79a_row7_col7\" class=\"data row7 col7\" >1.000000</td>\n",
              "      <td id=\"T_3e79a_row7_col8\" class=\"data row7 col8\" >696.000000</td>\n",
              "      <td id=\"T_3e79a_row7_col9\" class=\"data row7 col9\" >295.000000</td>\n",
              "      <td id=\"T_3e79a_row7_col10\" class=\"data row7 col10\" >142.500000</td>\n",
              "      <td id=\"T_3e79a_row7_col11\" class=\"data row7 col11\" >56.800000</td>\n",
              "      <td id=\"T_3e79a_row7_col12\" class=\"data row7 col12\" >143.000000</td>\n",
              "      <td id=\"T_3e79a_row7_col13\" class=\"data row7 col13\" >394.000000</td>\n",
              "      <td id=\"T_3e79a_row7_col14\" class=\"data row7 col14\" >1.000000</td>\n",
              "    </tr>\n",
              "  </tbody>\n",
              "</table>\n"
            ]
          },
          "metadata": {},
          "execution_count": 92
        }
      ]
    },
    {
      "cell_type": "markdown",
      "source": [
        "## **Handling the missing values**"
      ],
      "metadata": {
        "id": "J3fmVfOWwqv6"
      }
    },
    {
      "cell_type": "markdown",
      "source": [
        "\n",
        "\n",
        "> **Glucose, cigsPerDay,  totChol, BMI, heartRate**- In the following column mean and median are nearby. So i am using median values for filling the missing values.\n",
        "\n"
      ],
      "metadata": {
        "id": "hh__EIUHD60b"
      }
    },
    {
      "cell_type": "code",
      "source": [
        "# # Replacing null values with the median\n",
        "for col in ['glucose','education','BPMeds','totChol','cigsPerDay','BMI','heartRate']:\n",
        "  cv_df[col] = cv_df[col].fillna(cv_df[col].median())"
      ],
      "metadata": {
        "id": "umOffuNXjpnP"
      },
      "execution_count": null,
      "outputs": []
    },
    {
      "cell_type": "markdown",
      "source": [
        "\n",
        "> **Education and BPMeds** feature is not a continues variable so will use Mode for filling the missing values."
      ],
      "metadata": {
        "id": "E9UirqRQoxhP"
      }
    },
    {
      "cell_type": "code",
      "source": [
        " for col in ['education','BPMeds']:\n",
        "  cv_df[col] = cv_df[col].fillna(cv_df[col].mode())"
      ],
      "metadata": {
        "id": "EYUDmEgAcBzH"
      },
      "execution_count": null,
      "outputs": []
    },
    {
      "cell_type": "code",
      "source": [
        "#Calling the function again to check for nnull values\n",
        "brief()"
      ],
      "metadata": {
        "colab": {
          "base_uri": "https://localhost:8080/",
          "height": 582
        },
        "id": "GEGQUincov4E",
        "outputId": "8ca13966-fab0-4083-e330-f5ac2954897a"
      },
      "execution_count": null,
      "outputs": [
        {
          "output_type": "execute_result",
          "data": {
            "text/plain": [
              "                 Null Count    Dtype  unique_count\n",
              "id                        0    int64          3390\n",
              "age                       0    int64            39\n",
              "education                 0  float64             4\n",
              "sex                       0   object             2\n",
              "is_smoking                0   object             2\n",
              "cigsPerDay                0  float64            32\n",
              "BPMeds                    0  float64             2\n",
              "prevalentStroke           0    int64             2\n",
              "prevalentHyp              0    int64             2\n",
              "diabetes                  0    int64             2\n",
              "totChol                   0  float64           240\n",
              "sysBP                     0  float64           226\n",
              "diaBP                     0  float64           142\n",
              "BMI                       0  float64          1259\n",
              "heartRate                 0  float64            68\n",
              "glucose                   0  float64           132\n",
              "TenYearCHD                0    int64             2"
            ],
            "text/html": [
              "\n",
              "  <div id=\"df-aca16a78-c27a-4849-8469-bc01dc29deaa\">\n",
              "    <div class=\"colab-df-container\">\n",
              "      <div>\n",
              "<style scoped>\n",
              "    .dataframe tbody tr th:only-of-type {\n",
              "        vertical-align: middle;\n",
              "    }\n",
              "\n",
              "    .dataframe tbody tr th {\n",
              "        vertical-align: top;\n",
              "    }\n",
              "\n",
              "    .dataframe thead th {\n",
              "        text-align: right;\n",
              "    }\n",
              "</style>\n",
              "<table border=\"1\" class=\"dataframe\">\n",
              "  <thead>\n",
              "    <tr style=\"text-align: right;\">\n",
              "      <th></th>\n",
              "      <th>Null Count</th>\n",
              "      <th>Dtype</th>\n",
              "      <th>unique_count</th>\n",
              "    </tr>\n",
              "  </thead>\n",
              "  <tbody>\n",
              "    <tr>\n",
              "      <th>id</th>\n",
              "      <td>0</td>\n",
              "      <td>int64</td>\n",
              "      <td>3390</td>\n",
              "    </tr>\n",
              "    <tr>\n",
              "      <th>age</th>\n",
              "      <td>0</td>\n",
              "      <td>int64</td>\n",
              "      <td>39</td>\n",
              "    </tr>\n",
              "    <tr>\n",
              "      <th>education</th>\n",
              "      <td>0</td>\n",
              "      <td>float64</td>\n",
              "      <td>4</td>\n",
              "    </tr>\n",
              "    <tr>\n",
              "      <th>sex</th>\n",
              "      <td>0</td>\n",
              "      <td>object</td>\n",
              "      <td>2</td>\n",
              "    </tr>\n",
              "    <tr>\n",
              "      <th>is_smoking</th>\n",
              "      <td>0</td>\n",
              "      <td>object</td>\n",
              "      <td>2</td>\n",
              "    </tr>\n",
              "    <tr>\n",
              "      <th>cigsPerDay</th>\n",
              "      <td>0</td>\n",
              "      <td>float64</td>\n",
              "      <td>32</td>\n",
              "    </tr>\n",
              "    <tr>\n",
              "      <th>BPMeds</th>\n",
              "      <td>0</td>\n",
              "      <td>float64</td>\n",
              "      <td>2</td>\n",
              "    </tr>\n",
              "    <tr>\n",
              "      <th>prevalentStroke</th>\n",
              "      <td>0</td>\n",
              "      <td>int64</td>\n",
              "      <td>2</td>\n",
              "    </tr>\n",
              "    <tr>\n",
              "      <th>prevalentHyp</th>\n",
              "      <td>0</td>\n",
              "      <td>int64</td>\n",
              "      <td>2</td>\n",
              "    </tr>\n",
              "    <tr>\n",
              "      <th>diabetes</th>\n",
              "      <td>0</td>\n",
              "      <td>int64</td>\n",
              "      <td>2</td>\n",
              "    </tr>\n",
              "    <tr>\n",
              "      <th>totChol</th>\n",
              "      <td>0</td>\n",
              "      <td>float64</td>\n",
              "      <td>240</td>\n",
              "    </tr>\n",
              "    <tr>\n",
              "      <th>sysBP</th>\n",
              "      <td>0</td>\n",
              "      <td>float64</td>\n",
              "      <td>226</td>\n",
              "    </tr>\n",
              "    <tr>\n",
              "      <th>diaBP</th>\n",
              "      <td>0</td>\n",
              "      <td>float64</td>\n",
              "      <td>142</td>\n",
              "    </tr>\n",
              "    <tr>\n",
              "      <th>BMI</th>\n",
              "      <td>0</td>\n",
              "      <td>float64</td>\n",
              "      <td>1259</td>\n",
              "    </tr>\n",
              "    <tr>\n",
              "      <th>heartRate</th>\n",
              "      <td>0</td>\n",
              "      <td>float64</td>\n",
              "      <td>68</td>\n",
              "    </tr>\n",
              "    <tr>\n",
              "      <th>glucose</th>\n",
              "      <td>0</td>\n",
              "      <td>float64</td>\n",
              "      <td>132</td>\n",
              "    </tr>\n",
              "    <tr>\n",
              "      <th>TenYearCHD</th>\n",
              "      <td>0</td>\n",
              "      <td>int64</td>\n",
              "      <td>2</td>\n",
              "    </tr>\n",
              "  </tbody>\n",
              "</table>\n",
              "</div>\n",
              "      <button class=\"colab-df-convert\" onclick=\"convertToInteractive('df-aca16a78-c27a-4849-8469-bc01dc29deaa')\"\n",
              "              title=\"Convert this dataframe to an interactive table.\"\n",
              "              style=\"display:none;\">\n",
              "        \n",
              "  <svg xmlns=\"http://www.w3.org/2000/svg\" height=\"24px\"viewBox=\"0 0 24 24\"\n",
              "       width=\"24px\">\n",
              "    <path d=\"M0 0h24v24H0V0z\" fill=\"none\"/>\n",
              "    <path d=\"M18.56 5.44l.94 2.06.94-2.06 2.06-.94-2.06-.94-.94-2.06-.94 2.06-2.06.94zm-11 1L8.5 8.5l.94-2.06 2.06-.94-2.06-.94L8.5 2.5l-.94 2.06-2.06.94zm10 10l.94 2.06.94-2.06 2.06-.94-2.06-.94-.94-2.06-.94 2.06-2.06.94z\"/><path d=\"M17.41 7.96l-1.37-1.37c-.4-.4-.92-.59-1.43-.59-.52 0-1.04.2-1.43.59L10.3 9.45l-7.72 7.72c-.78.78-.78 2.05 0 2.83L4 21.41c.39.39.9.59 1.41.59.51 0 1.02-.2 1.41-.59l7.78-7.78 2.81-2.81c.8-.78.8-2.07 0-2.86zM5.41 20L4 18.59l7.72-7.72 1.47 1.35L5.41 20z\"/>\n",
              "  </svg>\n",
              "      </button>\n",
              "      \n",
              "  <style>\n",
              "    .colab-df-container {\n",
              "      display:flex;\n",
              "      flex-wrap:wrap;\n",
              "      gap: 12px;\n",
              "    }\n",
              "\n",
              "    .colab-df-convert {\n",
              "      background-color: #E8F0FE;\n",
              "      border: none;\n",
              "      border-radius: 50%;\n",
              "      cursor: pointer;\n",
              "      display: none;\n",
              "      fill: #1967D2;\n",
              "      height: 32px;\n",
              "      padding: 0 0 0 0;\n",
              "      width: 32px;\n",
              "    }\n",
              "\n",
              "    .colab-df-convert:hover {\n",
              "      background-color: #E2EBFA;\n",
              "      box-shadow: 0px 1px 2px rgba(60, 64, 67, 0.3), 0px 1px 3px 1px rgba(60, 64, 67, 0.15);\n",
              "      fill: #174EA6;\n",
              "    }\n",
              "\n",
              "    [theme=dark] .colab-df-convert {\n",
              "      background-color: #3B4455;\n",
              "      fill: #D2E3FC;\n",
              "    }\n",
              "\n",
              "    [theme=dark] .colab-df-convert:hover {\n",
              "      background-color: #434B5C;\n",
              "      box-shadow: 0px 1px 3px 1px rgba(0, 0, 0, 0.15);\n",
              "      filter: drop-shadow(0px 1px 2px rgba(0, 0, 0, 0.3));\n",
              "      fill: #FFFFFF;\n",
              "    }\n",
              "  </style>\n",
              "\n",
              "      <script>\n",
              "        const buttonEl =\n",
              "          document.querySelector('#df-aca16a78-c27a-4849-8469-bc01dc29deaa button.colab-df-convert');\n",
              "        buttonEl.style.display =\n",
              "          google.colab.kernel.accessAllowed ? 'block' : 'none';\n",
              "\n",
              "        async function convertToInteractive(key) {\n",
              "          const element = document.querySelector('#df-aca16a78-c27a-4849-8469-bc01dc29deaa');\n",
              "          const dataTable =\n",
              "            await google.colab.kernel.invokeFunction('convertToInteractive',\n",
              "                                                     [key], {});\n",
              "          if (!dataTable) return;\n",
              "\n",
              "          const docLinkHtml = 'Like what you see? Visit the ' +\n",
              "            '<a target=\"_blank\" href=https://colab.research.google.com/notebooks/data_table.ipynb>data table notebook</a>'\n",
              "            + ' to learn more about interactive tables.';\n",
              "          element.innerHTML = '';\n",
              "          dataTable['output_type'] = 'display_data';\n",
              "          await google.colab.output.renderOutput(dataTable, element);\n",
              "          const docLink = document.createElement('div');\n",
              "          docLink.innerHTML = docLinkHtml;\n",
              "          element.appendChild(docLink);\n",
              "        }\n",
              "      </script>\n",
              "    </div>\n",
              "  </div>\n",
              "  "
            ]
          },
          "metadata": {},
          "execution_count": 95
        }
      ]
    },
    {
      "cell_type": "code",
      "source": [],
      "metadata": {
        "id": "5YDNX0hVeQTE"
      },
      "execution_count": null,
      "outputs": []
    },
    {
      "cell_type": "markdown",
      "source": [
        "# **STEP 2 - Exploratory Data Analysis (EDA)**"
      ],
      "metadata": {
        "id": "O52-hQ9P6Z5P"
      }
    },
    {
      "cell_type": "markdown",
      "source": [
        "## **Handling Outliers**"
      ],
      "metadata": {
        "id": "5x1hEzWf8vwL"
      }
    },
    {
      "cell_type": "code",
      "source": [
        "# Box plot for visualizing outliers\n",
        "figure, ax = plt.subplots(nrows=4, ncols=2, figsize=(20,14))\n",
        "sns.boxplot(cv_df['age'], palette='Accent', ax=ax[0,0])\n",
        "sns.boxplot(cv_df['cigsPerDay'],palette='GnBu', ax=ax[0,1])\n",
        "sns.boxplot(cv_df['totChol'],palette='Dark2', ax=ax[1,0])\n",
        "sns.boxplot(cv_df['sysBP'], palette='OrRd',ax=ax[1,1])\n",
        "sns.boxplot(cv_df['diaBP'], palette='Pastel2_r', ax=ax[2,0])\n",
        "sns.boxplot(cv_df['BMI'],palette='Set1', ax=ax[2,1])\n",
        "sns.boxplot(cv_df['heartRate'], palette='YlGnBu_r', ax=ax[3,0])\n",
        "sns.boxplot(cv_df['glucose'],palette='autumn', ax=ax[3,1])"
      ],
      "metadata": {
        "colab": {
          "base_uri": "https://localhost:8080/",
          "height": 840
        },
        "id": "1eLpPZur8uJr",
        "outputId": "58b9312c-cf3b-4cd5-8f6d-7f142045b424"
      },
      "execution_count": null,
      "outputs": [
        {
          "output_type": "execute_result",
          "data": {
            "text/plain": [
              "<matplotlib.axes._subplots.AxesSubplot at 0x7f801a847df0>"
            ]
          },
          "metadata": {},
          "execution_count": 96
        },
        {
          "output_type": "display_data",
          "data": {
            "text/plain": [
              "<Figure size 1440x1008 with 8 Axes>"
            ],
            "image/png": "[encoded data removed]"
          },
          "metadata": {
            "needs_background": "light"
          }
        }
      ]
    },
    {
      "cell_type": "markdown",
      "source": [
        "\n",
        "\n",
        "> Inference - As we can see that except Age column all other columns have a lot of outliers\n",
        "\n"
      ],
      "metadata": {
        "id": "jpan3gFmC_ha"
      }
    },
    {
      "cell_type": "code",
      "source": [
        "# We will be using quantile method for dealing with outliers\n",
        "columns=['cigsPerDay', 'totChol', 'sysBP', 'diaBP', 'BMI', 'heartRate', 'glucose']\n",
        "cv_df[columns] = cv_df[columns].apply(lambda x: x.clip(*x.quantile([0.05, 0.95])))"
      ],
      "metadata": {
        "id": "q0KVcHyFQZxo"
      },
      "execution_count": null,
      "outputs": []
    },
    {
      "cell_type": "code",
      "source": [
        "figure, ax = plt.subplots(nrows=3, ncols=2, figsize=(25,10))\n",
        "sns.boxplot(cv_df['totChol'],palette='Dark2', ax=ax[0,0])\n",
        "sns.boxplot(cv_df['sysBP'], palette='OrRd',ax=ax[0,1])\n",
        "sns.boxplot(cv_df['diaBP'], palette='Pastel2_r', ax=ax[1,0])\n",
        "sns.boxplot(cv_df['BMI'],palette='Set1', ax=ax[1,1])\n",
        "sns.boxplot(cv_df['heartRate'], palette='YlGnBu_r', ax=ax[2,0])\n",
        "sns.boxplot(cv_df['glucose'],palette='autumn', ax=ax[2,1])"
      ],
      "metadata": {
        "colab": {
          "base_uri": "https://localhost:8080/",
          "height": 643
        },
        "id": "xjtfNCwOQlLz",
        "outputId": "576e89dc-e262-4e07-dd46-ccae747e5fa4"
      },
      "execution_count": null,
      "outputs": [
        {
          "output_type": "execute_result",
          "data": {
            "text/plain": [
              "<matplotlib.axes._subplots.AxesSubplot at 0x7f801a5cb1c0>"
            ]
          },
          "metadata": {},
          "execution_count": 98
        },
        {
          "output_type": "display_data",
          "data": {
            "text/plain": [
              "<Figure size 1800x720 with 6 Axes>"
            ],
            "image/png": "[encoded data removed]"
          },
          "metadata": {
            "needs_background": "light"
          }
        }
      ]
    },
    {
      "cell_type": "markdown",
      "source": [
        "## **Univairate Analysis**"
      ],
      "metadata": {
        "id": "JKa39lfcDcE_"
      }
    },
    {
      "cell_type": "markdown",
      "source": [
        "\n",
        "\n",
        ">Age\n",
        "\n",
        "\n"
      ],
      "metadata": {
        "id": "SNQrqODcRrWz"
      }
    },
    {
      "cell_type": "code",
      "source": [
        "# Display age distribution\n",
        "fig, ax = plt.subplots(figsize=(15,6))\n",
        "age_dis=pd.DataFrame(cv_df.groupby(['age'])['id'].count())\n",
        "sns.barplot(x=age_dis.index,y=age_dis['id'])\n",
        "plt.ylabel('Counts')\n",
        "plt.title('Age Distrubution')"
      ],
      "metadata": {
        "colab": {
          "base_uri": "https://localhost:8080/",
          "height": 421
        },
        "id": "UJXOrOS-B-UT",
        "outputId": "7652879b-26d6-40c7-b446-32f269ad0477"
      },
      "execution_count": null,
      "outputs": [
        {
          "output_type": "execute_result",
          "data": {
            "text/plain": [
              "Text(0.5, 1.0, 'Age Distrubution')"
            ]
          },
          "metadata": {},
          "execution_count": 102
        },
        {
          "output_type": "display_data",
          "data": {
            "text/plain": [
              "<Figure size 1080x432 with 1 Axes>"
            ],
            "image/png": "[encoded data removed]"
          },
          "metadata": {
            "needs_background": "light"
          }
        }
      ]
    },
    {
      "cell_type": "code",
      "source": [
        "# Get min, max and average of the age\n",
        "print('Min age: ', min(cv_df['age']))\n",
        "print('Max age: ', max(cv_df['age']))\n",
        "print('Average age: ', cv_df['age'].mean())"
      ],
      "metadata": {
        "colab": {
          "base_uri": "https://localhost:8080/"
        },
        "id": "lmUm5glPSzqS",
        "outputId": "bdfc6def-d3c1-4d49-9821-a149ed155d87"
      },
      "execution_count": null,
      "outputs": [
        {
          "output_type": "stream",
          "name": "stdout",
          "text": [
            "Min age:  32\n",
            "Max age:  70\n",
            "Average age:  49.54218289085546\n"
          ]
        }
      ]
    },
    {
      "cell_type": "markdown",
      "source": [
        "\n",
        "\n",
        "> Sex\n",
        "\n"
      ],
      "metadata": {
        "id": "W5RKPTFvU7Lb"
      }
    },
    {
      "cell_type": "code",
      "source": [
        "#plot gender distribution\n",
        "fig, ax = plt.subplots(1,1,figsize=(10,5))\n",
        "Education_status=pd.DataFrame(cv_df.groupby(['sex'])['id'].count())\n",
        "sns.barplot(x=Education_status.index,y=Education_status['id'])\n",
        "plt.xlabel('sex')\n",
        "plt.ylabel('Counts')\n",
        "plt.title('Gender Distribution')"
      ],
      "metadata": {
        "colab": {
          "base_uri": "https://localhost:8080/",
          "height": 367
        },
        "id": "70Vq2obfTLbD",
        "outputId": "aa00405a-1889-4bb7-95dd-18ac597d8324"
      },
      "execution_count": null,
      "outputs": [
        {
          "output_type": "execute_result",
          "data": {
            "text/plain": [
              "Text(0.5, 1.0, 'Gender Distribution')"
            ]
          },
          "metadata": {},
          "execution_count": 111
        },
        {
          "output_type": "display_data",
          "data": {
            "text/plain": [
              "<Figure size 720x360 with 1 Axes>"
            ],
            "image/png": "[encoded data removed]"
          },
          "metadata": {
            "needs_background": "light"
          }
        }
      ]
    },
    {
      "cell_type": "code",
      "source": [
        "#count total number of males and females\n",
        "cv_df.groupby(['sex'])['id'].count()"
      ],
      "metadata": {
        "colab": {
          "base_uri": "https://localhost:8080/"
        },
        "id": "TkJe1RmSVHPd",
        "outputId": "64b70dd8-339c-4248-a70c-ebb890f6cb8f"
      },
      "execution_count": null,
      "outputs": [
        {
          "output_type": "execute_result",
          "data": {
            "text/plain": [
              "sex\n",
              "F    1923\n",
              "M    1467\n",
              "Name: id, dtype: int64"
            ]
          },
          "metadata": {},
          "execution_count": 113
        }
      ]
    },
    {
      "cell_type": "markdown",
      "source": [
        "\n",
        "\n",
        "> is_smoking\n",
        "\n"
      ],
      "metadata": {
        "id": "E4tTL5yTX4hc"
      }
    },
    {
      "cell_type": "code",
      "source": [
        "#ploting a graph with number of smokers and non smokers\n",
        "fig, ax = plt.subplots(1,1,figsize=(8,3))\n",
        "Education_status=pd.DataFrame(cv_df.groupby(['is_smoking'])['id'].count())\n",
        "sns.barplot(x=Education_status.index,y=Education_status['id'])\n",
        "plt.xlabel('is_smoking')\n",
        "plt.ylabel('Counts')\n",
        "plt.title('Smoking people Distribution')"
      ],
      "metadata": {
        "colab": {
          "base_uri": "https://localhost:8080/",
          "height": 259
        },
        "id": "sxrS61cpVwEt",
        "outputId": "3f4d14d4-19fb-4259-88e7-68bbb3530228"
      },
      "execution_count": null,
      "outputs": [
        {
          "output_type": "execute_result",
          "data": {
            "text/plain": [
              "Text(0.5, 1.0, 'Smoking people Distribution')"
            ]
          },
          "metadata": {},
          "execution_count": 118
        },
        {
          "output_type": "display_data",
          "data": {
            "text/plain": [
              "<Figure size 576x216 with 1 Axes>"
            ],
            "image/png": "[encoded data removed]"
          },
          "metadata": {
            "needs_background": "light"
          }
        }
      ]
    },
    {
      "cell_type": "code",
      "source": [
        "#count of number of people YES= smoke and NO=dont smoke\n",
        "cv_df.groupby(['is_smoking'])['id'].count()"
      ],
      "metadata": {
        "colab": {
          "base_uri": "https://localhost:8080/"
        },
        "id": "sxFF5ndOWCOd",
        "outputId": "1b85453a-09b2-4f57-9fd3-4c83b20cfe69"
      },
      "execution_count": null,
      "outputs": [
        {
          "output_type": "execute_result",
          "data": {
            "text/plain": [
              "is_smoking\n",
              "NO     1703\n",
              "YES    1687\n",
              "Name: id, dtype: int64"
            ]
          },
          "metadata": {},
          "execution_count": 120
        }
      ]
    },
    {
      "cell_type": "markdown",
      "source": [
        "\n",
        "\n",
        "> BPMeds\n",
        "\n"
      ],
      "metadata": {
        "id": "8bRYhNNAY9FE"
      }
    },
    {
      "cell_type": "code",
      "source": [
        "#ploting a graph for people taking BP Medication\n",
        "fig, ax = plt.subplots(1,1,figsize=(8,4))\n",
        "Education_status=pd.DataFrame(cv_df.groupby(['BPMeds'])['id'].count())\n",
        "sns.barplot(x=Education_status.index,y=Education_status['id'])\n",
        "plt.xlabel('BPMeds')\n",
        "plt.ylabel('Counts')\n",
        "plt.title('BP medication people Distribution')"
      ],
      "metadata": {
        "colab": {
          "base_uri": "https://localhost:8080/",
          "height": 312
        },
        "id": "tYL26e_kXHzU",
        "outputId": "0d3d827d-cf68-4cd6-95d4-7dcedf1d292b"
      },
      "execution_count": null,
      "outputs": [
        {
          "output_type": "execute_result",
          "data": {
            "text/plain": [
              "Text(0.5, 1.0, 'BP medication people Distribution')"
            ]
          },
          "metadata": {},
          "execution_count": 122
        },
        {
          "output_type": "display_data",
          "data": {
            "text/plain": [
              "<Figure size 576x288 with 1 Axes>"
            ],
            "image/png": "[encoded data removed]"
          },
          "metadata": {
            "needs_background": "light"
          }
        }
      ]
    },
    {
      "cell_type": "code",
      "source": [
        "#count of people with BP Medication 0.0= do't take BP Medication and 1.0= take BP Medication\n",
        "cv_df.groupby(['BPMeds'])['id'].count()"
      ],
      "metadata": {
        "colab": {
          "base_uri": "https://localhost:8080/"
        },
        "id": "lOUOjRNZZYRf",
        "outputId": "37747c75-3c6c-436e-ed99-cae06828c0a1"
      },
      "execution_count": null,
      "outputs": [
        {
          "output_type": "execute_result",
          "data": {
            "text/plain": [
              "BPMeds\n",
              "0.0    3290\n",
              "1.0     100\n",
              "Name: id, dtype: int64"
            ]
          },
          "metadata": {},
          "execution_count": 123
        }
      ]
    },
    {
      "cell_type": "markdown",
      "source": [
        "\n",
        "\n",
        "> Hypertension\n"
      ],
      "metadata": {
        "id": "i7W7O0sJaMpU"
      }
    },
    {
      "cell_type": "code",
      "source": [
        "#ploting a graph with people having hypertension\n",
        "fig, ax = plt.subplots(1,1,figsize=(8,4))\n",
        "Education_status=pd.DataFrame(cv_df.groupby(['prevalentHyp'])['id'].count())\n",
        "sns.barplot(x=Education_status.index,y=Education_status['id'])\n",
        "plt.xlabel('prevprevalentHypalentStroke')\n",
        "plt.ylabel('Counts')\n",
        "plt.title('prevalent Stroke data Distribution')"
      ],
      "metadata": {
        "colab": {
          "base_uri": "https://localhost:8080/",
          "height": 312
        },
        "id": "at5HBDgxZDZD",
        "outputId": "be0497c3-fa3f-415a-941b-afc97a0390d2"
      },
      "execution_count": null,
      "outputs": [
        {
          "output_type": "execute_result",
          "data": {
            "text/plain": [
              "Text(0.5, 1.0, 'prevalent Stroke data Distribution')"
            ]
          },
          "metadata": {},
          "execution_count": 125
        },
        {
          "output_type": "display_data",
          "data": {
            "text/plain": [
              "<Figure size 576x288 with 1 Axes>"
            ],
            "image/png": "[encoded data removed]"
          },
          "metadata": {
            "needs_background": "light"
          }
        }
      ]
    },
    {
      "cell_type": "code",
      "source": [
        "#count of people having phpertension 0= no hypertension and 1= hypertension\n",
        "cv_df.groupby(['prevalentHyp'])['id'].count()"
      ],
      "metadata": {
        "colab": {
          "base_uri": "https://localhost:8080/"
        },
        "id": "RwKk7hJGacl6",
        "outputId": "18d606f0-d05e-47fa-cbde-6bc049492d58"
      },
      "execution_count": null,
      "outputs": [
        {
          "output_type": "execute_result",
          "data": {
            "text/plain": [
              "prevalentHyp\n",
              "0    2321\n",
              "1    1069\n",
              "Name: id, dtype: int64"
            ]
          },
          "metadata": {},
          "execution_count": 126
        }
      ]
    },
    {
      "cell_type": "code",
      "source": [],
      "metadata": {
        "id": "-7CChrrTa0B_"
      },
      "execution_count": null,
      "outputs": []
    }
  ]
}